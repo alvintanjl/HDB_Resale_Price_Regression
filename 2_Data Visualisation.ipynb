{
 "cells": [
  {
   "attachments": {},
   "cell_type": "markdown",
   "metadata": {},
   "source": [
    "# 1. Imports"
   ]
  },
  {
   "cell_type": "code",
   "execution_count": 1,
   "metadata": {},
   "outputs": [],
   "source": [
    "import requests\n",
    "import pandas as pd\n",
    "import numpy as np\n",
    "from tqdm import tqdm\n",
    "import time\n",
    "from datetime import datetime as dt\n",
    "import ast\n",
    "import requests\n",
    "from bs4 import BeautifulSoup\n",
    "import matplotlib.pyplot as plt\n",
    "import seaborn as sns\n",
    "import plotly.express as px\n",
    "import random as random\n",
    "\n",
    "import warnings\n",
    "warnings.filterwarnings(\"ignore\")"
   ]
  },
  {
   "attachments": {},
   "cell_type": "markdown",
   "metadata": {},
   "source": [
    "# 2. Read in dataset"
   ]
  },
  {
   "cell_type": "code",
   "execution_count": 2,
   "metadata": {},
   "outputs": [
    {
     "data": {
      "text/html": [
       "<div>\n",
       "<style scoped>\n",
       "    .dataframe tbody tr th:only-of-type {\n",
       "        vertical-align: middle;\n",
       "    }\n",
       "\n",
       "    .dataframe tbody tr th {\n",
       "        vertical-align: top;\n",
       "    }\n",
       "\n",
       "    .dataframe thead th {\n",
       "        text-align: right;\n",
       "    }\n",
       "</style>\n",
       "<table border=\"1\" class=\"dataframe\">\n",
       "  <thead>\n",
       "    <tr style=\"text-align: right;\">\n",
       "      <th></th>\n",
       "      <th>town</th>\n",
       "      <th>flat_type</th>\n",
       "      <th>flat_model</th>\n",
       "      <th>floor_area_sqm</th>\n",
       "      <th>street_name</th>\n",
       "      <th>resale_price</th>\n",
       "      <th>lease_commence_date</th>\n",
       "      <th>storey_range</th>\n",
       "      <th>block</th>\n",
       "      <th>remaining_lease_mth</th>\n",
       "      <th>...</th>\n",
       "      <th>closest_park_dist</th>\n",
       "      <th>closest_park</th>\n",
       "      <th>num_park_1km_radius</th>\n",
       "      <th>price_per_sqm</th>\n",
       "      <th>num_of_dwellings_in_town</th>\n",
       "      <th>Region</th>\n",
       "      <th>Area (km²)</th>\n",
       "      <th>Population</th>\n",
       "      <th>Density (/km²)</th>\n",
       "      <th>resell_date</th>\n",
       "    </tr>\n",
       "  </thead>\n",
       "  <tbody>\n",
       "    <tr>\n",
       "      <th>0</th>\n",
       "      <td>ANG MO KIO</td>\n",
       "      <td>2 ROOM</td>\n",
       "      <td>Improved</td>\n",
       "      <td>44.0</td>\n",
       "      <td>ANG MO KIO AVE 10</td>\n",
       "      <td>232000.0</td>\n",
       "      <td>1979.0</td>\n",
       "      <td>10 TO 12</td>\n",
       "      <td>406</td>\n",
       "      <td>736</td>\n",
       "      <td>...</td>\n",
       "      <td>1032.586022</td>\n",
       "      <td>Ang Mo Kio Town Garden East</td>\n",
       "      <td>0</td>\n",
       "      <td>5272.727273</td>\n",
       "      <td>61730.0</td>\n",
       "      <td>North-East</td>\n",
       "      <td>13.94</td>\n",
       "      <td>161000.0</td>\n",
       "      <td>13400.0</td>\n",
       "      <td>2017-01-01</td>\n",
       "    </tr>\n",
       "    <tr>\n",
       "      <th>1</th>\n",
       "      <td>ANG MO KIO</td>\n",
       "      <td>3 ROOM</td>\n",
       "      <td>New Generation</td>\n",
       "      <td>67.0</td>\n",
       "      <td>ANG MO KIO AVE 4</td>\n",
       "      <td>250000.0</td>\n",
       "      <td>1978.0</td>\n",
       "      <td>01 TO 03</td>\n",
       "      <td>108</td>\n",
       "      <td>727</td>\n",
       "      <td>...</td>\n",
       "      <td>658.451197</td>\n",
       "      <td>Ang Mo Kio Town Garden West</td>\n",
       "      <td>2</td>\n",
       "      <td>3731.343284</td>\n",
       "      <td>61730.0</td>\n",
       "      <td>North-East</td>\n",
       "      <td>13.94</td>\n",
       "      <td>161000.0</td>\n",
       "      <td>13400.0</td>\n",
       "      <td>2017-01-01</td>\n",
       "    </tr>\n",
       "    <tr>\n",
       "      <th>2</th>\n",
       "      <td>ANG MO KIO</td>\n",
       "      <td>3 ROOM</td>\n",
       "      <td>New Generation</td>\n",
       "      <td>67.0</td>\n",
       "      <td>ANG MO KIO AVE 5</td>\n",
       "      <td>262000.0</td>\n",
       "      <td>1980.0</td>\n",
       "      <td>01 TO 03</td>\n",
       "      <td>602</td>\n",
       "      <td>749</td>\n",
       "      <td>...</td>\n",
       "      <td>1111.238041</td>\n",
       "      <td>Ang Mo Kio Town Garden West</td>\n",
       "      <td>0</td>\n",
       "      <td>3910.447761</td>\n",
       "      <td>61730.0</td>\n",
       "      <td>North-East</td>\n",
       "      <td>13.94</td>\n",
       "      <td>161000.0</td>\n",
       "      <td>13400.0</td>\n",
       "      <td>2017-01-01</td>\n",
       "    </tr>\n",
       "    <tr>\n",
       "      <th>3</th>\n",
       "      <td>ANG MO KIO</td>\n",
       "      <td>3 ROOM</td>\n",
       "      <td>New Generation</td>\n",
       "      <td>68.0</td>\n",
       "      <td>ANG MO KIO AVE 10</td>\n",
       "      <td>265000.0</td>\n",
       "      <td>1980.0</td>\n",
       "      <td>04 TO 06</td>\n",
       "      <td>465</td>\n",
       "      <td>745</td>\n",
       "      <td>...</td>\n",
       "      <td>898.087299</td>\n",
       "      <td>Ang Mo Kio Town Garden East</td>\n",
       "      <td>1</td>\n",
       "      <td>3897.058824</td>\n",
       "      <td>61730.0</td>\n",
       "      <td>North-East</td>\n",
       "      <td>13.94</td>\n",
       "      <td>161000.0</td>\n",
       "      <td>13400.0</td>\n",
       "      <td>2017-01-01</td>\n",
       "    </tr>\n",
       "    <tr>\n",
       "      <th>4</th>\n",
       "      <td>ANG MO KIO</td>\n",
       "      <td>3 ROOM</td>\n",
       "      <td>New Generation</td>\n",
       "      <td>67.0</td>\n",
       "      <td>ANG MO KIO AVE 5</td>\n",
       "      <td>265000.0</td>\n",
       "      <td>1980.0</td>\n",
       "      <td>01 TO 03</td>\n",
       "      <td>601</td>\n",
       "      <td>749</td>\n",
       "      <td>...</td>\n",
       "      <td>1155.199842</td>\n",
       "      <td>Ang Mo Kio Town Garden West</td>\n",
       "      <td>0</td>\n",
       "      <td>3955.223881</td>\n",
       "      <td>61730.0</td>\n",
       "      <td>North-East</td>\n",
       "      <td>13.94</td>\n",
       "      <td>161000.0</td>\n",
       "      <td>13400.0</td>\n",
       "      <td>2017-01-01</td>\n",
       "    </tr>\n",
       "  </tbody>\n",
       "</table>\n",
       "<p>5 rows × 44 columns</p>\n",
       "</div>"
      ],
      "text/plain": [
       "         town flat_type      flat_model  floor_area_sqm        street_name  \\\n",
       "0  ANG MO KIO    2 ROOM        Improved            44.0  ANG MO KIO AVE 10   \n",
       "1  ANG MO KIO    3 ROOM  New Generation            67.0   ANG MO KIO AVE 4   \n",
       "2  ANG MO KIO    3 ROOM  New Generation            67.0   ANG MO KIO AVE 5   \n",
       "3  ANG MO KIO    3 ROOM  New Generation            68.0  ANG MO KIO AVE 10   \n",
       "4  ANG MO KIO    3 ROOM  New Generation            67.0   ANG MO KIO AVE 5   \n",
       "\n",
       "   resale_price  lease_commence_date storey_range block  remaining_lease_mth  \\\n",
       "0      232000.0               1979.0     10 TO 12   406                  736   \n",
       "1      250000.0               1978.0     01 TO 03   108                  727   \n",
       "2      262000.0               1980.0     01 TO 03   602                  749   \n",
       "3      265000.0               1980.0     04 TO 06   465                  745   \n",
       "4      265000.0               1980.0     01 TO 03   601                  749   \n",
       "\n",
       "   ...  closest_park_dist                 closest_park num_park_1km_radius  \\\n",
       "0  ...        1032.586022  Ang Mo Kio Town Garden East                   0   \n",
       "1  ...         658.451197  Ang Mo Kio Town Garden West                   2   \n",
       "2  ...        1111.238041  Ang Mo Kio Town Garden West                   0   \n",
       "3  ...         898.087299  Ang Mo Kio Town Garden East                   1   \n",
       "4  ...        1155.199842  Ang Mo Kio Town Garden West                   0   \n",
       "\n",
       "   price_per_sqm num_of_dwellings_in_town      Region  Area (km²) Population  \\\n",
       "0    5272.727273                  61730.0  North-East       13.94   161000.0   \n",
       "1    3731.343284                  61730.0  North-East       13.94   161000.0   \n",
       "2    3910.447761                  61730.0  North-East       13.94   161000.0   \n",
       "3    3897.058824                  61730.0  North-East       13.94   161000.0   \n",
       "4    3955.223881                  61730.0  North-East       13.94   161000.0   \n",
       "\n",
       "   Density (/km²)  resell_date  \n",
       "0         13400.0   2017-01-01  \n",
       "1         13400.0   2017-01-01  \n",
       "2         13400.0   2017-01-01  \n",
       "3         13400.0   2017-01-01  \n",
       "4         13400.0   2017-01-01  \n",
       "\n",
       "[5 rows x 44 columns]"
      ]
     },
     "execution_count": 2,
     "metadata": {},
     "output_type": "execute_result"
    }
   ],
   "source": [
    "df = pd.read_csv('checkpoint_4.csv')\n",
    "df.head()"
   ]
  },
  {
   "cell_type": "code",
   "execution_count": 3,
   "metadata": {},
   "outputs": [],
   "source": [
    "df.rename(columns = {'Area (km²)': 'area_km_sq', 'Density (/km²)': 'density_km_sq'}, inplace=True)\n",
    "df['resell_date'] = df['resell_date'].apply(lambda x: dt.strptime(x, \"%Y-%m-%d\"))"
   ]
  },
  {
   "cell_type": "code",
   "execution_count": 4,
   "metadata": {},
   "outputs": [
    {
     "name": "stdout",
     "output_type": "stream",
     "text": [
      "<class 'pandas.core.frame.DataFrame'>\n",
      "RangeIndex: 149326 entries, 0 to 149325\n",
      "Data columns (total 44 columns):\n",
      " #   Column                    Non-Null Count   Dtype         \n",
      "---  ------                    --------------   -----         \n",
      " 0   town                      149326 non-null  object        \n",
      " 1   flat_type                 149326 non-null  object        \n",
      " 2   flat_model                149326 non-null  object        \n",
      " 3   floor_area_sqm            149326 non-null  float64       \n",
      " 4   street_name               149326 non-null  object        \n",
      " 5   resale_price              149326 non-null  float64       \n",
      " 6   lease_commence_date       149326 non-null  float64       \n",
      " 7   storey_range              149326 non-null  object        \n",
      " 8   block                     149326 non-null  object        \n",
      " 9   remaining_lease_mth       149326 non-null  int64         \n",
      " 10  storey_range_lower        149326 non-null  int64         \n",
      " 11  address_str               149326 non-null  object        \n",
      " 12  lat_lon                   149326 non-null  object        \n",
      " 13  closest_mrt_dist          149326 non-null  float64       \n",
      " 14  closest_mrt               149326 non-null  object        \n",
      " 15  num_mrt_1km_radius        149326 non-null  int64         \n",
      " 16  closest_Pri_sch_dist      149326 non-null  float64       \n",
      " 17  closest_Pri_sch           149326 non-null  object        \n",
      " 18  num_Pri_sch_1km_radius    149326 non-null  int64         \n",
      " 19  closest_Sec_sch_dist      149326 non-null  float64       \n",
      " 20  closest_Sec_sch           149326 non-null  object        \n",
      " 21  num_Sec_sch_1km_radius    149326 non-null  int64         \n",
      " 22  closest_JC_sch_dist       149326 non-null  float64       \n",
      " 23  closest_JC_sch            149326 non-null  object        \n",
      " 24  num_JC_sch_1km_radius     149326 non-null  int64         \n",
      " 25  closest_MI_sch_dist       149326 non-null  float64       \n",
      " 26  closest_MI_sch            149326 non-null  object        \n",
      " 27  num_MI_sch_1km_radius     149326 non-null  int64         \n",
      " 28  closest_Uni_sch_dist      149326 non-null  float64       \n",
      " 29  closest_Uni_sch           149326 non-null  object        \n",
      " 30  num_Uni_sch_1km_radius    149326 non-null  int64         \n",
      " 31  closest_mall_dist         149326 non-null  float64       \n",
      " 32  closest_mall              149326 non-null  object        \n",
      " 33  num_mall_1km_radius       149326 non-null  int64         \n",
      " 34  closest_park_dist         149326 non-null  float64       \n",
      " 35  closest_park              149326 non-null  object        \n",
      " 36  num_park_1km_radius       149326 non-null  int64         \n",
      " 37  price_per_sqm             149326 non-null  float64       \n",
      " 38  num_of_dwellings_in_town  148084 non-null  float64       \n",
      " 39  Region                    149326 non-null  object        \n",
      " 40  area_km_sq                148084 non-null  float64       \n",
      " 41  Population                148084 non-null  float64       \n",
      " 42  density_km_sq             148084 non-null  float64       \n",
      " 43  resell_date               149326 non-null  datetime64[ns]\n",
      "dtypes: datetime64[ns](1), float64(16), int64(10), object(17)\n",
      "memory usage: 50.1+ MB\n"
     ]
    }
   ],
   "source": [
    "df.info()"
   ]
  },
  {
   "cell_type": "code",
   "execution_count": 5,
   "metadata": {},
   "outputs": [
    {
     "data": {
      "text/plain": [
       "Index(['town', 'flat_type', 'flat_model', 'floor_area_sqm', 'street_name',\n",
       "       'resale_price', 'lease_commence_date', 'storey_range', 'block',\n",
       "       'remaining_lease_mth', 'storey_range_lower', 'address_str', 'lat_lon',\n",
       "       'closest_mrt_dist', 'closest_mrt', 'num_mrt_1km_radius',\n",
       "       'closest_Pri_sch_dist', 'closest_Pri_sch', 'num_Pri_sch_1km_radius',\n",
       "       'closest_Sec_sch_dist', 'closest_Sec_sch', 'num_Sec_sch_1km_radius',\n",
       "       'closest_JC_sch_dist', 'closest_JC_sch', 'num_JC_sch_1km_radius',\n",
       "       'closest_MI_sch_dist', 'closest_MI_sch', 'num_MI_sch_1km_radius',\n",
       "       'closest_Uni_sch_dist', 'closest_Uni_sch', 'num_Uni_sch_1km_radius',\n",
       "       'closest_mall_dist', 'closest_mall', 'num_mall_1km_radius',\n",
       "       'closest_park_dist', 'closest_park', 'num_park_1km_radius',\n",
       "       'price_per_sqm', 'num_of_dwellings_in_town', 'Region', 'area_km_sq',\n",
       "       'Population', 'density_km_sq', 'resell_date'],\n",
       "      dtype='object')"
      ]
     },
     "execution_count": 5,
     "metadata": {},
     "output_type": "execute_result"
    }
   ],
   "source": [
    "df.columns"
   ]
  },
  {
   "attachments": {},
   "cell_type": "markdown",
   "metadata": {},
   "source": [
    "# 3. Univariate Analysis"
   ]
  },
  {
   "cell_type": "code",
   "execution_count": 6,
   "metadata": {},
   "outputs": [],
   "source": [
    "categorical_variables = [\n",
    "    'town', \n",
    "    'flat_type', \n",
    "    'flat_model', \n",
    "    'Region', \n",
    "    'closest_JC_sch', \n",
    "    'closest_MI_sch', \n",
    "    'closest_Uni_sch',\n",
    "    'storey_range_lower', \n",
    "    'num_mrt_1km_radius', \n",
    "    'num_Pri_sch_1km_radius', \n",
    "    'num_Sec_sch_1km_radius',\n",
    "    'num_JC_sch_1km_radius', \n",
    "    'num_MI_sch_1km_radius', \n",
    "    'num_Uni_sch_1km_radius', \n",
    "    'num_mall_1km_radius',\n",
    "    'num_park_1km_radius', \n",
    "    # Too many to unpack\n",
    "    # 'street_name', 'block', 'address_str', 'lat_lon', 'closest_Pri_sch', 'closest_Sec_sch', 'closest_mall', 'closest_park', 'closest_mrt', \n",
    "]\n",
    "\n",
    "numerical_variables = [\n",
    "    'floor_area_sqm', \n",
    "    'closest_mrt_dist', \n",
    "    'closest_Pri_sch_dist', \n",
    "    'closest_Sec_sch_dist', \n",
    "    'closest_JC_sch_dist', \n",
    "    'closest_MI_sch_dist', \n",
    "    'closest_Uni_sch_dist',\n",
    "    'closest_mall_dist', \n",
    "    'closest_park_dist', \n",
    "    'num_of_dwellings_in_town', \n",
    "    'area_km_sq', \n",
    "    'density_km_sq', \n",
    "    'Population'\n",
    "]\n",
    "\n",
    "date_variables = [\n",
    "    'resell_date', 'lease_commence_date'\n",
    "]\n",
    "\n",
    "target_variables = [\n",
    "    'price_per_sqm', 'resale_price'\n",
    "]"
   ]
  },
  {
   "attachments": {},
   "cell_type": "markdown",
   "metadata": {},
   "source": [
    "## 3.1 Categorical Variables (+ Date Variables)"
   ]
  },
  {
   "cell_type": "code",
   "execution_count": null,
   "metadata": {},
   "outputs": [],
   "source": [
    "for cat_col in (categorical_variables + date_variables):\n",
    "    temp = pd.DataFrame(df[cat_col].value_counts())\n",
    "    temp = temp.reset_index()\n",
    "    temp.columns = [cat_col, 'count']\n",
    "    fig = px.bar(temp, x=cat_col, y='count', text_auto=True)\n",
    "    fig.show()"
   ]
  },
  {
   "attachments": {},
   "cell_type": "markdown",
   "metadata": {},
   "source": [
    "## 3.2 Numerical Values (Including target)"
   ]
  },
  {
   "cell_type": "code",
   "execution_count": null,
   "metadata": {},
   "outputs": [],
   "source": [
    "fig, ax = plt.subplots(4, 4, figsize = (20,20))\n",
    "\n",
    "for idx, num_col in enumerate(numerical_variables + target_variables):\n",
    "    row = idx // 4\n",
    "    col = idx % 4\n",
    "    ax[row, col].hist(df[num_col], bins = 30)\n",
    "    ax[row, col].set_title(num_col)\n",
    "fig.tight_layout()\n",
    "fig.show()"
   ]
  },
  {
   "attachments": {},
   "cell_type": "markdown",
   "metadata": {},
   "source": [
    "# 3.3 Bivariate Analysis"
   ]
  },
  {
   "attachments": {},
   "cell_type": "markdown",
   "metadata": {},
   "source": [
    "## 3.2.1 Categorical Variables"
   ]
  },
  {
   "attachments": {},
   "cell_type": "markdown",
   "metadata": {},
   "source": [
    "### 3.2.1.1 Grouped bar plots by resale price quantile"
   ]
  },
  {
   "cell_type": "code",
   "execution_count": 7,
   "metadata": {},
   "outputs": [],
   "source": [
    "percentiles = dict(zip(df['resale_price'].quantile(np.arange(0,10,2) / 10), np.arange(20,120,20)))\n",
    "\n",
    "def get_percentile(val_in):\n",
    "    for val, percentile in percentiles.items():\n",
    "        if val_in <= val:\n",
    "            return percentile\n",
    "        \n",
    "df['price_percentile'] = df['resale_price'].apply(get_percentile)"
   ]
  },
  {
   "cell_type": "code",
   "execution_count": null,
   "metadata": {},
   "outputs": [],
   "source": [
    "for cat_col in (categorical_variables):\n",
    "    print(cat_col)\n",
    "    temp = df.groupby([cat_col, 'price_percentile']).count().iloc[:,1]\n",
    "    temp = temp.reset_index()\n",
    "    temp.columns = [cat_col, 'price_percentile', 'count']\n",
    "    fig = px.bar(temp, x='price_percentile', y='count', color = cat_col, barmode = \"group\", text_auto=True)\n",
    "    fig.show()"
   ]
  },
  {
   "attachments": {},
   "cell_type": "markdown",
   "metadata": {},
   "source": [
    "### 3.2.1.2 Grouped bar plots by resale price per sqm quantile"
   ]
  },
  {
   "cell_type": "code",
   "execution_count": 8,
   "metadata": {},
   "outputs": [],
   "source": [
    "percentiles_ppsm = dict(zip(df['price_per_sqm'].quantile(np.arange(0,10,2) / 10), np.arange(20,120,20)))\n",
    "\n",
    "def get_percentile_ppsm(val_in):\n",
    "    for val, percentile in percentiles_ppsm.items():\n",
    "        if val_in <= val:\n",
    "            return percentile\n",
    "        \n",
    "df['price_per_sqm_percentile'] = df['price_per_sqm'].apply(get_percentile_ppsm)"
   ]
  },
  {
   "cell_type": "code",
   "execution_count": null,
   "metadata": {},
   "outputs": [],
   "source": [
    "for cat_col in (categorical_variables):\n",
    "    print(cat_col)\n",
    "    temp = df.groupby([cat_col, 'price_per_sqm_percentile']).count().iloc[:,1]\n",
    "    temp = temp.reset_index()\n",
    "    temp.columns = [cat_col, 'price_per_sqm_percentile', 'count']\n",
    "    fig = px.bar(temp, x='price_per_sqm_percentile', y='count', color = cat_col, barmode = \"group\", text_auto=True)\n",
    "    fig.show()"
   ]
  },
  {
   "attachments": {},
   "cell_type": "markdown",
   "metadata": {},
   "source": [
    "### 3.2.1.3 Box plots by resale price"
   ]
  },
  {
   "cell_type": "code",
   "execution_count": null,
   "metadata": {},
   "outputs": [],
   "source": [
    "for cat_col in (categorical_variables):\n",
    "    fig = px.box(df, x=cat_col, y='resale_price')\n",
    "    fig.show()"
   ]
  },
  {
   "attachments": {},
   "cell_type": "markdown",
   "metadata": {},
   "source": [
    "### 3.2.1.4 Box plots by resale price per sqm"
   ]
  },
  {
   "cell_type": "code",
   "execution_count": null,
   "metadata": {},
   "outputs": [],
   "source": [
    "for cat_col in (categorical_variables):\n",
    "    fig = px.box(df, x=cat_col, y='price_per_sqm')\n",
    "    fig.show()"
   ]
  },
  {
   "attachments": {},
   "cell_type": "markdown",
   "metadata": {},
   "source": [
    "### 3.2.1.5 Mean resale price line plots"
   ]
  },
  {
   "cell_type": "code",
   "execution_count": null,
   "metadata": {},
   "outputs": [],
   "source": [
    "for col_1_idx in range(len(categorical_variables)):\n",
    "    for col_2_idx in range(col_1_idx + 1, len(categorical_variables)):\n",
    "        cat_col_1 = categorical_variables[col_1_idx]\n",
    "        cat_col_2 = categorical_variables[col_2_idx]\n",
    "        temp = df.groupby([cat_col_1, cat_col_2])['resale_price'].mean()\n",
    "        temp = temp.reset_index()\n",
    "        temp.columns = [cat_col_1, cat_col_2, 'mean_price']\n",
    "        \n",
    "        plt.figure(figsize=(15,10))\n",
    "        sns.lineplot(x = temp[cat_col_1], y = temp['mean_price'], hue = temp[cat_col_2])\n",
    "        sns.scatterplot(x = temp[cat_col_1], y = temp['mean_price'], hue = temp[cat_col_2])\n",
    "        plt.title(f'Mean Price by {cat_col_1}, colored by {cat_col_2}')\n",
    "        plt.ylabel('Mean Price')\n",
    "        plt.xlabel(cat_col_1)\n",
    "        plt.legend(loc='center left', bbox_to_anchor=(1, 0.5))\n",
    "        plt.xticks(rotation=90)\n",
    "        plt.show()"
   ]
  },
  {
   "attachments": {},
   "cell_type": "markdown",
   "metadata": {},
   "source": [
    "### 3.2.1.6 Mean resale price per square meter line plots"
   ]
  },
  {
   "cell_type": "code",
   "execution_count": null,
   "metadata": {},
   "outputs": [],
   "source": [
    "for col_1_idx in range(len(categorical_variables)):\n",
    "    for col_2_idx in range(col_1_idx + 1, len(categorical_variables)):\n",
    "        cat_col_1 = categorical_variables[col_1_idx]\n",
    "        cat_col_2 = categorical_variables[col_2_idx]\n",
    "        temp = df.groupby([cat_col_1, cat_col_2])['price_per_sqm'].mean()\n",
    "        temp = temp.reset_index()\n",
    "        temp.columns = [cat_col_1, cat_col_2, 'mean_ppsm']\n",
    "        \n",
    "        plt.figure(figsize=(15,10))\n",
    "        sns.lineplot(x = temp[cat_col_1], y = temp['mean_ppsm'], hue = temp[cat_col_2])\n",
    "        sns.scatterplot(x = temp[cat_col_1], y = temp['mean_ppsm'], hue = temp[cat_col_2])\n",
    "        plt.title(f'Mean price per square meter by {cat_col_1}, colored by {cat_col_2}')\n",
    "        plt.ylabel('Mean price per square meter')\n",
    "        plt.xlabel(cat_col_1)\n",
    "        plt.legend(loc='center left', bbox_to_anchor=(1, 0.5))\n",
    "        plt.xticks(rotation=90)\n",
    "        plt.show()"
   ]
  },
  {
   "cell_type": "markdown",
   "metadata": {},
   "source": []
  },
  {
   "attachments": {},
   "cell_type": "markdown",
   "metadata": {},
   "source": [
    "## 3.2.2 Date Variables"
   ]
  },
  {
   "attachments": {},
   "cell_type": "markdown",
   "metadata": {},
   "source": [
    "### 3.2.2.1 Box plot of resale price over resale date"
   ]
  },
  {
   "cell_type": "code",
   "execution_count": null,
   "metadata": {},
   "outputs": [],
   "source": [
    "for date_col in (date_variables):\n",
    "    fig = px.box(df, x=date_col, y='resale_price')\n",
    "    fig.show()"
   ]
  },
  {
   "attachments": {},
   "cell_type": "markdown",
   "metadata": {},
   "source": [
    "### 3.2.2.2 Mean resale price by date"
   ]
  },
  {
   "cell_type": "code",
   "execution_count": null,
   "metadata": {},
   "outputs": [],
   "source": [
    "date_col = date_variables[0]\n",
    "temp = df.groupby(date_col)['resale_price'].mean()\n",
    "temp = temp.reset_index()\n",
    "temp.columns = [date_col, 'mean_price']\n",
    "fig = px.line(temp, x=date_col, y='mean_price')\n",
    "fig.add_vline(x=dt.strptime('2020/03/01', '%Y/%m/%d'), line_dash=\"dash\", line_color=\"red\")\n",
    "fig.add_annotation(x=dt.strptime('2020/03/01', '%Y/%m/%d'), y = 400000, text='COVID-19 Circuit Breaker starts')\n",
    "fig.show()"
   ]
  },
  {
   "cell_type": "code",
   "execution_count": null,
   "metadata": {},
   "outputs": [],
   "source": [
    "date_col = date_variables[1]\n",
    "temp = df.groupby(date_col)['resale_price'].mean()\n",
    "temp = temp.reset_index()\n",
    "temp.columns = [date_col, 'mean_price']\n",
    "fig = px.line(temp, x=date_col, y='mean_price')\n",
    "fig.show()"
   ]
  },
  {
   "attachments": {},
   "cell_type": "markdown",
   "metadata": {},
   "source": [
    "### 3.2.2.3 Mean resale price by resell month"
   ]
  },
  {
   "cell_type": "code",
   "execution_count": null,
   "metadata": {},
   "outputs": [],
   "source": [
    "temp_df = df.copy()\n",
    "temp_df['resell_month'] = temp_df['resell_date'].dt.month\n",
    "temp = temp_df.groupby('resell_month')['resale_price'].mean()\n",
    "temp = temp.reset_index()\n",
    "temp.columns = ['resell_month', 'mean_price']\n",
    "fig = px.line(temp, x='resell_month', y='mean_price')\n",
    "fig.show()"
   ]
  },
  {
   "attachments": {},
   "cell_type": "markdown",
   "metadata": {},
   "source": [
    "## 3.2.3 Continuous Variables"
   ]
  },
  {
   "attachments": {},
   "cell_type": "markdown",
   "metadata": {},
   "source": [
    "#### 3.2.3.1 Correlation Analysis"
   ]
  },
  {
   "cell_type": "code",
   "execution_count": null,
   "metadata": {},
   "outputs": [],
   "source": [
    "corr_matrix = df[numerical_variables + target_variables].corr()\n",
    "plt.figure(figsize=(15,10))\n",
    "sns.heatmap(corr_matrix, cmap = \"Blues\", annot=True)\n",
    "plt.show()"
   ]
  },
  {
   "attachments": {},
   "cell_type": "markdown",
   "metadata": {},
   "source": [
    "#### 3.2.3.2 Line plot with categorical variable breakdown for resale price"
   ]
  },
  {
   "cell_type": "code",
   "execution_count": null,
   "metadata": {},
   "outputs": [],
   "source": [
    "# # PLOTLY WAY -> laggy, use for a few important variables\n",
    "# for num_col in numerical_variables:\n",
    "#     for cat_col in categorical_variables:\n",
    "#         fig = px.scatter(df, x=num_col, y=\"resale_price\", color=cat_col, opacity=0.5, title=f'Resale price by {num_col}, colored by {cat_col}')\n",
    "#         fig.update_layout(\n",
    "#             autosize=False,\n",
    "#             width=1500,\n",
    "#             height=800\n",
    "#             )\n",
    "#         fig.show()"
   ]
  },
  {
   "cell_type": "code",
   "execution_count": null,
   "metadata": {},
   "outputs": [],
   "source": [
    "for num_col in numerical_variables:\n",
    "    for cat_col in categorical_variables:\n",
    "        plt.figure(figsize=(15,10))\n",
    "        sns.scatterplot(x = df[num_col], y = df['resale_price'], hue = df[cat_col], alpha = 0.5)\n",
    "        plt.title(f'Resale price by {num_col}, colored by {cat_col}')\n",
    "        plt.legend(loc='center left', bbox_to_anchor=(1, 0.5))\n",
    "        plt.xticks(rotation=90)\n",
    "        plt.show()"
   ]
  },
  {
   "cell_type": "code",
   "execution_count": null,
   "metadata": {},
   "outputs": [],
   "source": []
  }
 ],
 "metadata": {
  "kernelspec": {
   "display_name": "myenv",
   "language": "python",
   "name": "python3"
  },
  "language_info": {
   "codemirror_mode": {
    "name": "ipython",
    "version": 3
   },
   "file_extension": ".py",
   "mimetype": "text/x-python",
   "name": "python",
   "nbconvert_exporter": "python",
   "pygments_lexer": "ipython3",
   "version": "3.10.0"
  },
  "orig_nbformat": 4
 },
 "nbformat": 4,
 "nbformat_minor": 2
}
